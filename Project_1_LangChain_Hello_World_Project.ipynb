{
  "nbformat": 4,
  "nbformat_minor": 0,
  "metadata": {
    "colab": {
      "provenance": [],
      "authorship_tag": "ABX9TyM/Jff7ZdNXfPcKgQj9PrS4",
      "include_colab_link": true
    },
    "kernelspec": {
      "name": "python3",
      "display_name": "Python 3"
    },
    "language_info": {
      "name": "python"
    }
  },
  "cells": [
    {
      "cell_type": "markdown",
      "metadata": {
        "id": "view-in-github",
        "colab_type": "text"
      },
      "source": [
        "<a href=\"https://colab.research.google.com/github/muhammadsami987123/Generative_Ai_Projects/blob/main/Project_1_LangChain_Hello_World_Project.ipynb\" target=\"_parent\"><img src=\"https://colab.research.google.com/assets/colab-badge.svg\" alt=\"Open In Colab\"/></a>"
      ]
    },
    {
      "cell_type": "markdown",
      "source": [
        "#**Project 1: LangChain Hello World Project**\n",
        "\n",
        "#Install Libraries:\n",
        " Installs langchain and langchain-google-genai for using LangChain with the Google Generative AI Gemini model.\n",
        "\n",
        "#Import Modules:\n",
        "Imports ChatGoogleGenerativeAI from langchain_google_genai to interact with the Gemini API.\n",
        "\n",
        "#Get API Key:\n",
        "Fetches the Google API key securely from Colab's userdata.\n",
        "\n",
        "#Check API Key:\n",
        "If the API key is not found, it prints an error message and stops execution to prevent further errors.\n",
        "\n",
        "#Initialize LLM:\n",
        "Sets up the Gemini model (gemini-2.0-flash-exp) with the API key.\n",
        "\n",
        "#Invoke Model:\n",
        " Sends the prompt \"Say: Hello, World!\" to the model.\n",
        "\n",
        "#Print Response:\n",
        "Displays the model's generated response."
      ],
      "metadata": {
        "id": "pjeAdk2SR9t0"
      }
    },
    {
      "cell_type": "code",
      "execution_count": null,
      "metadata": {
        "colab": {
          "base_uri": "https://localhost:8080/"
        },
        "id": "8J3gT6O_RXkA",
        "outputId": "821d2574-084f-4b42-b6ab-d045e03899d1"
      },
      "outputs": [
        {
          "output_type": "stream",
          "name": "stdout",
          "text": [
            "\u001b[?25l   \u001b[90m━━━━━━━━━━━━━━━━━━━━━━━━━━━━━━━━━━━━━━━━\u001b[0m \u001b[32m0.0/1.0 MB\u001b[0m \u001b[31m?\u001b[0m eta \u001b[36m-:--:--\u001b[0m\r\u001b[2K   \u001b[91m━━━━━━━━━━━━━━━━━━━━━━━━━━━━━━━━\u001b[0m\u001b[90m╺\u001b[0m\u001b[90m━━━━━━━\u001b[0m \u001b[32m0.8/1.0 MB\u001b[0m \u001b[31m24.8 MB/s\u001b[0m eta \u001b[36m0:00:01\u001b[0m\r\u001b[2K   \u001b[90m━━━━━━━━━━━━━━━━━━━━━━━━━━━━━━━━━━━━━━━━\u001b[0m \u001b[32m1.0/1.0 MB\u001b[0m \u001b[31m14.2 MB/s\u001b[0m eta \u001b[36m0:00:00\u001b[0m\n",
            "\u001b[?25h\u001b[?25l   \u001b[90m━━━━━━━━━━━━━━━━━━━━━━━━━━━━━━━━━━━━━━━━\u001b[0m \u001b[32m0.0/41.3 kB\u001b[0m \u001b[31m?\u001b[0m eta \u001b[36m-:--:--\u001b[0m\r\u001b[2K   \u001b[90m━━━━━━━━━━━━━━━━━━━━━━━━━━━━━━━━━━━━━━━━\u001b[0m \u001b[32m41.3/41.3 kB\u001b[0m \u001b[31m1.4 MB/s\u001b[0m eta \u001b[36m0:00:00\u001b[0m\n",
            "\u001b[?25h\u001b[?25l   \u001b[90m━━━━━━━━━━━━━━━━━━━━━━━━━━━━━━━━━━━━━━━━\u001b[0m \u001b[32m0.0/411.6 kB\u001b[0m \u001b[31m?\u001b[0m eta \u001b[36m-:--:--\u001b[0m\r\u001b[2K   \u001b[91m━━━━━━━━━━━━━━━━━━━━━━━━━━━━━━━━━━━━━━━\u001b[0m\u001b[91m╸\u001b[0m \u001b[32m409.6/411.6 kB\u001b[0m \u001b[31m35.5 MB/s\u001b[0m eta \u001b[36m0:00:01\u001b[0m\r\u001b[2K   \u001b[90m━━━━━━━━━━━━━━━━━━━━━━━━━━━━━━━━━━━━━━━━\u001b[0m \u001b[32m411.6/411.6 kB\u001b[0m \u001b[31m9.6 MB/s\u001b[0m eta \u001b[36m0:00:00\u001b[0m\n",
            "\u001b[?25hGenerated Response:\n",
            " Hello, World!\n",
            "\n"
          ]
        }
      ],
      "source": [
        "# Install necessary libraries\n",
        "!pip install -Uq langchain langchain-google-genai\n",
        "\n",
        "# Import required modules\n",
        "from langchain_google_genai import ChatGoogleGenerativeAI\n",
        "\n",
        "# Initialize the LLM with your API key\n",
        "from google.colab import userdata\n",
        "GOOGLE_API_KEY = userdata.get('GOOGLE_API_KEY')\n",
        "\n",
        "if not GOOGLE_API_KEY:\n",
        "    print(\"Error: Please set your GOOGLE_API_KEY in Colab user data.\")\n",
        "    exit()\n",
        "\n",
        "# Initialize the LLM\n",
        "llm = ChatGoogleGenerativeAI(model=\"gemini-2.0-flash-exp\", api_key=GOOGLE_API_KEY)\n",
        "\n",
        "# Invoke the LLM with a simple prompt\n",
        "response = llm.invoke(\"Say: Hello, World!\")\n",
        "\n",
        "# Print the response\n",
        "print(\"Generated Response:\\n\", response.content)\n"
      ]
    }
  ]
}